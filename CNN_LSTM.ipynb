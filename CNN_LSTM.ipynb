{
  "nbformat": 4,
  "nbformat_minor": 0,
  "metadata": {
    "colab": {
      "name": "CNN-LSTM.ipynb",
      "provenance": [],
      "collapsed_sections": [],
      "authorship_tag": "ABX9TyPU1zepyK3kPeNIDzQ3qJ1+",
      "include_colab_link": true
    },
    "kernelspec": {
      "name": "python3",
      "display_name": "Python 3"
    },
    "language_info": {
      "name": "python"
    }
  },
  "cells": [
    {
      "cell_type": "markdown",
      "metadata": {
        "id": "view-in-github",
        "colab_type": "text"
      },
      "source": [
        "<a href=\"https://colab.research.google.com/github/mimn97/BERT-Image-Captioning/blob/main/CNN_LSTM.ipynb\" target=\"_parent\"><img src=\"https://colab.research.google.com/assets/colab-badge.svg\" alt=\"Open In Colab\"/></a>"
      ]
    },
    {
      "cell_type": "markdown",
      "metadata": {
        "id": "XU2TMR2kvv4r"
      },
      "source": [
        "# **Mount Google Drive**\n"
      ]
    },
    {
      "cell_type": "code",
      "metadata": {
        "id": "oI6JFiFcveAb",
        "colab": {
          "base_uri": "https://localhost:8080/"
        },
        "outputId": "f93d99aa-b9c4-434e-8375-7e49144d0a7d"
      },
      "source": [
        "from google.colab import drive \n",
        "drive.mount('/content/drive')"
      ],
      "execution_count": null,
      "outputs": [
        {
          "output_type": "stream",
          "name": "stdout",
          "text": [
            "Mounted at /content/drive\n"
          ]
        }
      ]
    },
    {
      "cell_type": "markdown",
      "metadata": {
        "id": "CRoncb1HwBji"
      },
      "source": [
        "# **Import Pytorch and other modules**"
      ]
    },
    {
      "cell_type": "code",
      "metadata": {
        "id": "JNsUvLofwHrX"
      },
      "source": [
        ""
      ],
      "execution_count": null,
      "outputs": []
    }
  ]
}